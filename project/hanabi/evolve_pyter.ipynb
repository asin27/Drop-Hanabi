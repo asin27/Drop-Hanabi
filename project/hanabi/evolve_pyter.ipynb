{
 "cells": [
  {
   "cell_type": "code",
   "execution_count": 52,
   "outputs": [],
   "source": [
    "import LCS_Evolver as ev\n",
    "\n",
    "n_players = 4\n",
    "g = ev.GameManager(n_players)"
   ],
   "metadata": {
    "collapsed": false,
    "pycharm": {
     "name": "#%%\n"
    }
   }
  },
  {
   "cell_type": "markdown",
   "source": [
    "RuleSet is the representation of our player, it is composed by three matrices:\n",
    "* one for direct matching\n",
    "* one for dont care mask\n",
    "* one for action encoding"
   ],
   "metadata": {
    "collapsed": false,
    "pycharm": {
     "name": "#%% md\n"
    }
   }
  },
  {
   "cell_type": "code",
   "execution_count": 53,
   "outputs": [],
   "source": [
    "from LCS_Rules import LCSRules, RuleSet\n",
    "\n",
    "r1 = RuleSet.random_rule_set(g.sensor_len(), g.action_len(), 100)\n",
    "r2 = RuleSet.random_rule_set(g.sensor_len(), g.action_len(), 20)\n",
    "r3 = RuleSet.random_rule_set(g.sensor_len(), g.action_len(), 1)\n",
    "r4 = RuleSet.random_rule_set(g.sensor_len(), g.action_len(), 50)"
   ],
   "metadata": {
    "collapsed": false,
    "pycharm": {
     "name": "#%%\n"
    }
   }
  },
  {
   "cell_type": "markdown",
   "source": [
    "get_fitness function playes a match between the players and returns the match results"
   ],
   "metadata": {
    "collapsed": false,
    "pycharm": {
     "name": "#%% md\n"
    }
   }
  },
  {
   "cell_type": "code",
   "execution_count": 54,
   "outputs": [],
   "source": [
    "res = g.get_fitness([r1, r2, r3, r4])"
   ],
   "metadata": {
    "collapsed": false,
    "pycharm": {
     "name": "#%%\n"
    }
   }
  },
  {
   "cell_type": "code",
   "execution_count": 65,
   "outputs": [
    {
     "name": "stdout",
     "output_type": "stream",
     "text": [
      "[False False False False False False False False False False False False\n",
      " False False False False False False False False False False False False\n",
      " False False False False False False False False False False False False\n",
      " False False False False False False False False False False False False\n",
      " False False False False False False False False False False False False\n",
      " False False False False False False False False False False False False\n",
      " False False False False False False False False False False False False\n",
      " False False False False False False False False False False False False\n",
      " False False False False False False False  True  True  True  True  True\n",
      "  True False]\n",
      "[100, 101, 101, 101, 102, 103, 104, 105, 106, 107, 108, 109]\n"
     ]
    }
   ],
   "source": [
    "print(res[0].rule_data.critical_rules)\n",
    "print(res[0].rule_data.rule_usage)"
   ],
   "metadata": {
    "collapsed": false,
    "pycharm": {
     "name": "#%%\n"
    }
   }
  },
  {
   "cell_type": "code",
   "execution_count": 70,
   "outputs": [
    {
     "data": {
      "text/plain": "(110,)"
     },
     "execution_count": 70,
     "metadata": {},
     "output_type": "execute_result"
    }
   ],
   "source": [
    "res[0].rule_data.critical_rules.shape"
   ],
   "metadata": {
    "collapsed": false,
    "pycharm": {
     "name": "#%%\n"
    }
   }
  },
  {
   "cell_type": "code",
   "execution_count": 71,
   "outputs": [
    {
     "data": {
      "text/plain": "RuleSet(match_string=array([[ True,  True,  True, ..., False, False, False],\n       [False,  True,  True, ..., False, False,  True],\n       [ True, False,  True, ..., False,  True, False],\n       ...,\n       [False, False, False, ..., False, False, False],\n       [False, False, False, ..., False, False, False],\n       [False, False, False, ..., False, False, False]]), dont_care=array([[False,  True,  True, ..., False, False,  True],\n       [False,  True,  True, ..., False,  True,  True],\n       [ True, False, False, ..., False, False, False],\n       ...,\n       [False, False, False, ..., False,  True, False],\n       [False,  True,  True, ...,  True, False,  True],\n       [ True,  True, False, ..., False,  True,  True]]), action=array([[ True, False,  True,  True,  True,  True],\n       [ True, False,  True, False,  True,  True],\n       [False, False, False, False, False, False],\n       [False,  True,  True, False, False,  True],\n       [ True, False, False, False,  True,  True],\n       [False, False,  True, False, False,  True],\n       [ True, False, False,  True,  True, False],\n       [ True, False, False, False,  True,  True],\n       [ True,  True,  True, False, False,  True],\n       [ True, False, False, False, False, False],\n       [False,  True,  True,  True, False, False],\n       [ True,  True,  True, False,  True, False],\n       [False,  True,  True,  True, False, False],\n       [False, False,  True,  True,  True, False],\n       [False,  True, False, False, False,  True],\n       [ True, False, False,  True,  True, False],\n       [False,  True, False,  True,  True,  True],\n       [ True,  True,  True, False, False, False],\n       [False,  True, False,  True,  True, False],\n       [ True,  True,  True,  True,  True,  True],\n       [False, False,  True, False,  True,  True],\n       [False,  True, False,  True,  True, False],\n       [ True, False,  True, False,  True,  True],\n       [ True,  True,  True,  True, False,  True],\n       [ True, False, False,  True, False, False],\n       [False,  True, False,  True, False,  True],\n       [False,  True,  True,  True, False,  True],\n       [False,  True, False, False, False,  True],\n       [False, False,  True,  True,  True, False],\n       [False, False,  True, False, False, False],\n       [False, False, False,  True, False, False],\n       [False,  True, False,  True, False, False],\n       [False,  True,  True, False,  True,  True],\n       [ True,  True, False, False,  True,  True],\n       [False,  True, False, False, False,  True],\n       [False, False,  True, False, False,  True],\n       [ True, False, False, False, False,  True],\n       [ True,  True,  True,  True, False, False],\n       [False, False,  True, False,  True,  True],\n       [False, False,  True, False, False, False],\n       [False,  True, False, False, False,  True],\n       [False, False,  True, False,  True, False],\n       [False, False, False,  True, False, False],\n       [ True,  True, False, False, False, False],\n       [False,  True,  True,  True,  True,  True],\n       [False,  True, False, False,  True, False],\n       [ True, False,  True,  True, False, False],\n       [False,  True, False, False, False, False],\n       [ True,  True, False, False,  True, False],\n       [False,  True, False,  True,  True, False],\n       [ True,  True, False,  True,  True, False],\n       [False, False,  True, False, False, False],\n       [False, False, False, False,  True, False],\n       [False, False, False,  True,  True, False],\n       [False,  True,  True,  True, False, False],\n       [False, False,  True, False,  True,  True],\n       [ True, False, False, False, False, False],\n       [False, False,  True, False, False, False],\n       [ True, False,  True, False, False, False],\n       [False,  True,  True,  True, False, False],\n       [False, False, False,  True, False,  True],\n       [False, False,  True, False,  True, False],\n       [ True,  True,  True,  True,  True,  True],\n       [False,  True, False,  True, False,  True],\n       [ True, False, False, False,  True, False],\n       [ True, False, False,  True, False,  True],\n       [False, False,  True,  True, False, False],\n       [False,  True,  True, False,  True,  True],\n       [ True, False, False,  True, False, False],\n       [False, False,  True,  True, False, False],\n       [False,  True, False, False,  True, False],\n       [ True,  True, False, False, False,  True],\n       [ True, False, False,  True, False,  True],\n       [False, False, False,  True,  True,  True],\n       [ True,  True, False, False, False,  True],\n       [False,  True,  True,  True, False,  True],\n       [False, False,  True, False, False, False],\n       [False,  True, False, False, False,  True],\n       [False,  True,  True, False, False, False],\n       [False,  True, False,  True, False, False],\n       [False,  True, False,  True, False,  True],\n       [False, False, False, False,  True, False],\n       [False,  True, False,  True, False,  True],\n       [False,  True, False, False, False,  True],\n       [ True,  True, False, False,  True,  True],\n       [ True,  True, False,  True, False,  True],\n       [False, False, False,  True,  True,  True],\n       [False,  True, False, False, False,  True],\n       [ True, False, False,  True,  True,  True],\n       [ True, False, False, False,  True,  True],\n       [False, False,  True, False,  True,  True],\n       [ True, False,  True,  True,  True,  True],\n       [ True,  True, False, False,  True,  True],\n       [False,  True,  True, False, False, False],\n       [ True,  True, False, False,  True,  True],\n       [ True,  True,  True,  True,  True,  True],\n       [False,  True, False, False, False, False],\n       [ True,  True, False, False, False,  True],\n       [False,  True,  True,  True, False, False],\n       [ True, False, False,  True,  True,  True],\n       [ True,  True, False,  True, False, False],\n       [False,  True, False, False, False, False],\n       [False, False, False,  True, False,  True],\n       [ True, False,  True, False,  True, False],\n       [ True,  True,  True,  True,  True,  True],\n       [ True, False, False, False, False,  True],\n       [False, False,  True,  True, False,  True],\n       [ True,  True,  True,  True, False,  True],\n       [False, False, False, False, False, False],\n       [ True,  True, False, False,  True, False]]))"
     },
     "execution_count": 71,
     "metadata": {},
     "output_type": "execute_result"
    }
   ],
   "source": [
    "r1"
   ],
   "metadata": {
    "collapsed": false,
    "pycharm": {
     "name": "#%%\n"
    }
   }
  },
  {
   "cell_type": "code",
   "execution_count": null,
   "outputs": [],
   "source": [],
   "metadata": {
    "collapsed": false,
    "pycharm": {
     "name": "#%%\n"
    }
   }
  }
 ],
 "metadata": {
  "kernelspec": {
   "display_name": "Python 3",
   "language": "python",
   "name": "python3"
  },
  "language_info": {
   "codemirror_mode": {
    "name": "ipython",
    "version": 2
   },
   "file_extension": ".py",
   "mimetype": "text/x-python",
   "name": "python",
   "nbconvert_exporter": "python",
   "pygments_lexer": "ipython2",
   "version": "2.7.6"
  }
 },
 "nbformat": 4,
 "nbformat_minor": 0
}