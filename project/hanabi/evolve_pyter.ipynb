{
 "cells": [
  {
   "cell_type": "code",
   "execution_count": 2,
   "metadata": {
    "collapsed": true
   },
   "outputs": [],
   "source": [
    "import LCS_Evolver as ev\n",
    "\n",
    "n_players = 3\n",
    "g = ev.GameManager(n_players)"
   ]
  },
  {
   "cell_type": "code",
   "execution_count": 3,
   "outputs": [],
   "source": [
    "import numpy as np\n",
    "import LCS_Sensor as Sens\n",
    "from LCS_Rules import LCSRules, RuleSet\n",
    "from LCS_Actor import LCSActor\n",
    "\n",
    "rules = [LCSRules(Sens.package_sensors(n_players), LCSActor.get_action_length()) for _ in range(n_players)]"
   ],
   "metadata": {
    "collapsed": false,
    "pycharm": {
     "name": "#%%\n"
    }
   }
  },
  {
   "cell_type": "code",
   "execution_count": null,
   "outputs": [
    {
     "name": "stdout",
     "output_type": "stream",
     "text": [
      "LCS0 TURN: <class 'GameData.ServerInvalidDataReceived'>, data: You cannot give hints about cards that the other person does not have\n",
      "LCS0 TURN: <class 'GameData.ServerInvalidDataReceived'>, data: You cannot give hints about cards that the other person does not have\n",
      "LCS0 TURN: <class 'GameData.ServerInvalidDataReceived'>, data: You cannot give hints about cards that the other person does not have\n"
     ]
    }
   ],
   "source": [
    "res = g.get_fitness(rules)\n",
    "res"
   ],
   "metadata": {
    "collapsed": false,
    "pycharm": {
     "name": "#%%\n",
     "is_executing": true
    }
   }
  },
  {
   "cell_type": "code",
   "execution_count": null,
   "outputs": [],
   "source": [],
   "metadata": {
    "collapsed": false,
    "pycharm": {
     "name": "#%%\n"
    }
   }
  }
 ],
 "metadata": {
  "kernelspec": {
   "display_name": "Python 3",
   "language": "python",
   "name": "python3"
  },
  "language_info": {
   "codemirror_mode": {
    "name": "ipython",
    "version": 2
   },
   "file_extension": ".py",
   "mimetype": "text/x-python",
   "name": "python",
   "nbconvert_exporter": "python",
   "pygments_lexer": "ipython2",
   "version": "2.7.6"
  }
 },
 "nbformat": 4,
 "nbformat_minor": 0
}